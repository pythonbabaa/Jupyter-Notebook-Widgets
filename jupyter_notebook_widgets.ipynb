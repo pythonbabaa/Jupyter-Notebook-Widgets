{
 "cells": [
  {
   "cell_type": "markdown",
   "id": "5c1d1ae5",
   "metadata": {},
   "source": [
    "### ipy widgets"
   ]
  },
  {
   "cell_type": "markdown",
   "id": "8f0007aa",
   "metadata": {},
   "source": [
    "__Import ipywidgets__"
   ]
  },
  {
   "cell_type": "code",
   "execution_count": 1,
   "id": "2d208c70",
   "metadata": {},
   "outputs": [],
   "source": [
    "import ipywidgets as widgets\n",
    "from IPython.display import display"
   ]
  },
  {
   "cell_type": "markdown",
   "id": "f24884ef",
   "metadata": {},
   "source": [
    "## Simple Integer Slider"
   ]
  },
  {
   "cell_type": "code",
   "execution_count": 2,
   "id": "c342ee75",
   "metadata": {},
   "outputs": [
    {
     "data": {
      "application/vnd.jupyter.widget-view+json": {
       "model_id": "10ef6cd4adba4077b7d24007fc7edb68",
       "version_major": 2,
       "version_minor": 0
      },
      "text/plain": [
       "IntSlider(value=0)"
      ]
     },
     "metadata": {},
     "output_type": "display_data"
    }
   ],
   "source": [
    "widgets.IntSlider()"
   ]
  },
  {
   "cell_type": "code",
   "execution_count": 3,
   "id": "a5035b31",
   "metadata": {},
   "outputs": [],
   "source": [
    "w = widgets.IntSlider()"
   ]
  },
  {
   "cell_type": "code",
   "execution_count": 4,
   "id": "11c0f989",
   "metadata": {},
   "outputs": [
    {
     "data": {
      "application/vnd.jupyter.widget-view+json": {
       "model_id": "f8d51840a16547fb844ce7d599ec5332",
       "version_major": 2,
       "version_minor": 0
      },
      "text/plain": [
       "IntSlider(value=0)"
      ]
     },
     "metadata": {},
     "output_type": "display_data"
    }
   ],
   "source": [
    "w"
   ]
  },
  {
   "cell_type": "code",
   "execution_count": null,
   "id": "84bc0f6f",
   "metadata": {},
   "outputs": [],
   "source": []
  },
  {
   "cell_type": "code",
   "execution_count": 5,
   "id": "1d36216a",
   "metadata": {},
   "outputs": [
    {
     "data": {
      "application/vnd.jupyter.widget-view+json": {
       "model_id": "f8d51840a16547fb844ce7d599ec5332",
       "version_major": 2,
       "version_minor": 0
      },
      "text/plain": [
       "IntSlider(value=0)"
      ]
     },
     "metadata": {},
     "output_type": "display_data"
    }
   ],
   "source": [
    "display(w)"
   ]
  },
  {
   "cell_type": "markdown",
   "id": "60c0b570",
   "metadata": {},
   "source": [
    "## Slider properties"
   ]
  },
  {
   "cell_type": "code",
   "execution_count": 6,
   "id": "2cf7dd4d",
   "metadata": {},
   "outputs": [
    {
     "data": {
      "text/plain": [
       "0"
      ]
     },
     "execution_count": 6,
     "metadata": {},
     "output_type": "execute_result"
    }
   ],
   "source": [
    "w.value"
   ]
  },
  {
   "cell_type": "code",
   "execution_count": 7,
   "id": "41b5bbd5",
   "metadata": {},
   "outputs": [
    {
     "data": {
      "text/plain": [
       "['_dom_classes',\n",
       " '_model_module',\n",
       " '_model_module_version',\n",
       " '_model_name',\n",
       " '_view_count',\n",
       " '_view_module',\n",
       " '_view_module_version',\n",
       " '_view_name',\n",
       " 'continuous_update',\n",
       " 'description',\n",
       " 'description_tooltip',\n",
       " 'disabled',\n",
       " 'layout',\n",
       " 'max',\n",
       " 'min',\n",
       " 'orientation',\n",
       " 'readout',\n",
       " 'readout_format',\n",
       " 'step',\n",
       " 'style',\n",
       " 'value']"
      ]
     },
     "execution_count": 7,
     "metadata": {},
     "output_type": "execute_result"
    }
   ],
   "source": [
    "w.keys"
   ]
  },
  {
   "cell_type": "code",
   "execution_count": 8,
   "id": "a8fd7c6a",
   "metadata": {},
   "outputs": [
    {
     "data": {
      "text/plain": [
       "1"
      ]
     },
     "execution_count": 8,
     "metadata": {},
     "output_type": "execute_result"
    }
   ],
   "source": [
    "w.step"
   ]
  },
  {
   "cell_type": "code",
   "execution_count": 9,
   "id": "647ca2cf",
   "metadata": {},
   "outputs": [
    {
     "data": {
      "application/vnd.jupyter.widget-view+json": {
       "model_id": "447333a5bf724832a0c0514591b2549c",
       "version_major": 2,
       "version_minor": 0
      },
      "text/plain": [
       "IntSlider(value=0, description='Number', step=2)"
      ]
     },
     "metadata": {},
     "output_type": "display_data"
    }
   ],
   "source": [
    "widgets.IntSlider(step = 2, description = \"Number\")"
   ]
  },
  {
   "cell_type": "markdown",
   "id": "ca72fad2",
   "metadata": {},
   "source": [
    "# widget example"
   ]
  },
  {
   "cell_type": "code",
   "execution_count": 10,
   "id": "de9c99c5",
   "metadata": {},
   "outputs": [],
   "source": [
    "import numpy as np\n",
    "import pandas as pd\n",
    "import seaborn as sns\n",
    "from matplotlib import pyplot as plt\n",
    "import warnings\n",
    "\n",
    "warnings.filterwarnings('ignore')"
   ]
  },
  {
   "cell_type": "markdown",
   "id": "8b710427",
   "metadata": {},
   "source": [
    "### widget with `interact` function syntax"
   ]
  },
  {
   "cell_type": "code",
   "execution_count": 11,
   "id": "65d710e6",
   "metadata": {},
   "outputs": [],
   "source": [
    "cars = pd.read_csv('car.csv')"
   ]
  },
  {
   "cell_type": "code",
   "execution_count": 12,
   "id": "a314163a",
   "metadata": {},
   "outputs": [
    {
     "data": {
      "text/plain": [
       "Index(['Unnamed: 0', 'ID', 'make', 'model', 'months_old', 'power', 'gear_type',\n",
       "       'fuel_type', 'kms', 'price', 'age'],\n",
       "      dtype='object')"
      ]
     },
     "execution_count": 12,
     "metadata": {},
     "output_type": "execute_result"
    }
   ],
   "source": [
    "cars.columns"
   ]
  },
  {
   "cell_type": "code",
   "execution_count": 13,
   "id": "0cce53b8",
   "metadata": {},
   "outputs": [],
   "source": [
    "def cars_plot(bw = 1):\n",
    "\n",
    "    sns.kdeplot(cars.kms, cars.price, fill=True, bw_adjust=bw)\n",
    "    plt.xlim(-100000, 300000)\n",
    "    plt.show()"
   ]
  },
  {
   "cell_type": "code",
   "execution_count": 14,
   "id": "c7bc2902",
   "metadata": {},
   "outputs": [
    {
     "data": {
      "application/vnd.jupyter.widget-view+json": {
       "model_id": "ed704fbd64664252979d0af6795f9931",
       "version_major": 2,
       "version_minor": 0
      },
      "text/plain": [
       "interactive(children=(FloatSlider(value=1.0, description='bw', max=3.0, min=0.1), Output()), _dom_classes=('wi…"
      ]
     },
     "metadata": {},
     "output_type": "display_data"
    }
   ],
   "source": [
    "widgets.interact(cars_plot, bw=(0.1, 3))\n",
    "plt.show()"
   ]
  },
  {
   "cell_type": "markdown",
   "id": "de774582",
   "metadata": {},
   "source": [
    "## Widget with `interact` decorator syntax"
   ]
  },
  {
   "cell_type": "code",
   "execution_count": 15,
   "id": "e4d116e4",
   "metadata": {},
   "outputs": [
    {
     "data": {
      "application/vnd.jupyter.widget-view+json": {
       "model_id": "d98655846aff41db8cedeb53237944bd",
       "version_major": 2,
       "version_minor": 0
      },
      "text/plain": [
       "interactive(children=(FloatSlider(value=1.0, description='bw', max=3.0, min=0.1), Output()), _dom_classes=('wi…"
      ]
     },
     "metadata": {},
     "output_type": "display_data"
    }
   ],
   "source": [
    "@widgets.interact(bw = (.1, 3, .1))\n",
    "\n",
    "def cars_plot(bw = 1):\n",
    "\n",
    "    sns.kdeplot(cars.kms, cars.price, fill=True, bw_adjust=bw)\n",
    "    plt.xlim(-100000, 300000)\n",
    "    plt.show()"
   ]
  },
  {
   "cell_type": "code",
   "execution_count": 16,
   "id": "2386e5b2",
   "metadata": {},
   "outputs": [],
   "source": [
    "x = np.random.uniform(0, 5, size = 100)\n",
    "ep = np.random.normal(size = 100)\n",
    "\n",
    "y = 2*x + ep"
   ]
  },
  {
   "cell_type": "code",
   "execution_count": 17,
   "id": "686c6f8c",
   "metadata": {
    "scrolled": true
   },
   "outputs": [
    {
     "data": {
      "image/png": "[encoded data removed]",
      "text/plain": [
       "<Figure size 432x288 with 1 Axes>"
      ]
     },
     "metadata": {
      "needs_background": "light"
     },
     "output_type": "display_data"
    }
   ],
   "source": [
    "plt.scatter(x, y)\n",
    "plt.show()"
   ]
  },
  {
   "cell_type": "code",
   "execution_count": 18,
   "id": "aa90af9f",
   "metadata": {},
   "outputs": [],
   "source": [
    "x_values = np.linspace(0, 5, 1000)"
   ]
  },
  {
   "cell_type": "markdown",
   "id": "a6261f10",
   "metadata": {},
   "source": [
    "### Slider"
   ]
  },
  {
   "cell_type": "code",
   "execution_count": 19,
   "id": "d31e918e",
   "metadata": {},
   "outputs": [
    {
     "data": {
      "image/png": "[encoded data removed]",
      "text/plain": [
       "<Figure size 432x288 with 1 Axes>"
      ]
     },
     "metadata": {
      "needs_background": "light"
     },
     "output_type": "display_data"
    }
   ],
   "source": [
    "plt.scatter(x, y)\n",
    "plt.plot(x_values, x_values, lw = 5, color = 'black')\n",
    "plt.show()"
   ]
  },
  {
   "cell_type": "code",
   "execution_count": 20,
   "id": "aed6f6ec",
   "metadata": {},
   "outputs": [],
   "source": [
    "def slope_viz(m=1):\n",
    "    plt.scatter(x, y)\n",
    "    plt.plot(x_values, m*x_values, lw = 5, color = 'black')\n",
    "    plt.ylim(-1.2, 12.2)\n",
    "    plt.show()"
   ]
  },
  {
   "cell_type": "code",
   "execution_count": 21,
   "id": "5e3737dd",
   "metadata": {},
   "outputs": [
    {
     "data": {
      "image/png": "[encoded data removed]",
      "text/plain": [
       "<Figure size 432x288 with 1 Axes>"
      ]
     },
     "metadata": {
      "needs_background": "light"
     },
     "output_type": "display_data"
    }
   ],
   "source": [
    "slope_viz(m=2)"
   ]
  },
  {
   "cell_type": "code",
   "execution_count": 22,
   "id": "c465f30f",
   "metadata": {},
   "outputs": [
    {
     "data": {
      "application/vnd.jupyter.widget-view+json": {
       "model_id": "681a5c6d3ada49b68f627c3e91314c4c",
       "version_major": 2,
       "version_minor": 0
      },
      "text/plain": [
       "interactive(children=(FloatSlider(value=1.0, description='m', max=5.0, min=0.2, step=0.2), Output()), _dom_cla…"
      ]
     },
     "metadata": {},
     "output_type": "display_data"
    }
   ],
   "source": [
    "widgets.interact(slope_viz, m=(0.2, 5, 0.2))\n",
    "plt.show()"
   ]
  },
  {
   "cell_type": "markdown",
   "id": "ad157946",
   "metadata": {},
   "source": [
    "## Dropdown List"
   ]
  },
  {
   "cell_type": "code",
   "execution_count": 23,
   "id": "f19d4695",
   "metadata": {},
   "outputs": [
    {
     "data": {
      "application/vnd.jupyter.widget-view+json": {
       "model_id": "f84d17c3c18e47869dfafc536a15c3f3",
       "version_major": 2,
       "version_minor": 0
      },
      "text/plain": [
       "interactive(children=(Dropdown(description='m', index=1, options=(0, 1, 2, 3, 4), value=1), Output()), _dom_cl…"
      ]
     },
     "metadata": {},
     "output_type": "display_data"
    }
   ],
   "source": [
    "widgets.interact(slope_viz, m = [0,1,2,3,4])\n",
    "plt.show()"
   ]
  },
  {
   "cell_type": "markdown",
   "id": "5b086abb",
   "metadata": {},
   "source": [
    "# Check Box and Text"
   ]
  },
  {
   "cell_type": "code",
   "execution_count": 24,
   "id": "98e43fbc",
   "metadata": {},
   "outputs": [],
   "source": [
    "def slope_viz_update(m=1, line=False, text = \"\"):\n",
    "    plt.scatter(x, y)\n",
    "    \n",
    "    if line:\n",
    "        plt.plot(x_values, m*x_values, lw = 5, color = 'black')\n",
    "        plt.ylim(-1.2, 12.2)\n",
    "        plt.show()\n",
    "        \n",
    "    if text:\n",
    "        plt.text(0, 10, f\"{text}\\n The slope is {m}.\")"
   ]
  },
  {
   "cell_type": "code",
   "execution_count": 25,
   "id": "701539c3",
   "metadata": {},
   "outputs": [
    {
     "data": {
      "application/vnd.jupyter.widget-view+json": {
       "model_id": "fa3200ef5f0d40cda60c348fea8dfe81",
       "version_major": 2,
       "version_minor": 0
      },
      "text/plain": [
       "interactive(children=(Dropdown(description='m', index=1, options=(0, 1, 2, 3, 4), value=1), Checkbox(value=Fal…"
      ]
     },
     "metadata": {},
     "output_type": "display_data"
    }
   ],
   "source": [
    "# if there is a list, we will see drop down.\n",
    "# if there is a boolean, we will see a check box.\n",
    "# if there is a string, we will see a text box.\n",
    "\n",
    "widgets.interact(slope_viz_update, m = [0,1,2,3,4], line = False, text = \"\")\n",
    "plt.show()"
   ]
  },
  {
   "cell_type": "markdown",
   "id": "7ac567d7",
   "metadata": {},
   "source": [
    "## Radio Buttons"
   ]
  },
  {
   "cell_type": "code",
   "execution_count": 26,
   "id": "14d37b01",
   "metadata": {},
   "outputs": [],
   "source": [
    "radio_buttons = widgets.RadioButtons(\n",
    "    options = [0,1,2,3,4],\n",
    "    value = 1\n",
    ")"
   ]
  },
  {
   "cell_type": "code",
   "execution_count": 27,
   "id": "fbd67ac0",
   "metadata": {},
   "outputs": [
    {
     "data": {
      "application/vnd.jupyter.widget-view+json": {
       "model_id": "e47a76a6eb794181a4df6196f9bbe4b5",
       "version_major": 2,
       "version_minor": 0
      },
      "text/plain": [
       "interactive(children=(RadioButtons(description='m', index=1, options=(0, 1, 2, 3, 4), value=1), Output()), _do…"
      ]
     },
     "metadata": {},
     "output_type": "display_data"
    }
   ],
   "source": [
    "widgets.interact(slope_viz, m = radio_buttons)\n",
    "plt.show()"
   ]
  },
  {
   "cell_type": "markdown",
   "id": "66aa9305",
   "metadata": {},
   "source": [
    "### Basic Animation"
   ]
  },
  {
   "cell_type": "code",
   "execution_count": 28,
   "id": "34991cf7",
   "metadata": {},
   "outputs": [],
   "source": [
    "x = np.linspace(0, 2*np.pi, 1000)"
   ]
  },
  {
   "cell_type": "code",
   "execution_count": 29,
   "id": "c2494330",
   "metadata": {},
   "outputs": [],
   "source": [
    "def sine_wave(t = 0):\n",
    "    y = np.sin(x+t)\n",
    "    plt.plot(x,y)"
   ]
  },
  {
   "cell_type": "code",
   "execution_count": 30,
   "id": "8d09119c",
   "metadata": {},
   "outputs": [
    {
     "data": {
      "image/png": "[encoded data removed]",
      "text/plain": [
       "<Figure size 432x288 with 1 Axes>"
      ]
     },
     "metadata": {
      "needs_background": "light"
     },
     "output_type": "display_data"
    }
   ],
   "source": [
    "sine_wave(t = 0)"
   ]
  },
  {
   "cell_type": "code",
   "execution_count": 31,
   "id": "0a62d0a0",
   "metadata": {},
   "outputs": [
    {
     "data": {
      "application/vnd.jupyter.widget-view+json": {
       "model_id": "336fe77f19ba463397690fa51e2b580b",
       "version_major": 2,
       "version_minor": 0
      },
      "text/plain": [
       "interactive(children=(IntSlider(value=0, description='t', max=20), Output()), _dom_classes=('widget-interact',…"
      ]
     },
     "metadata": {},
     "output_type": "display_data"
    }
   ],
   "source": [
    "widgets.interact(sine_wave, t = (0,20,1))\n",
    "plt.show()"
   ]
  },
  {
   "cell_type": "code",
   "execution_count": 32,
   "id": "46992c18",
   "metadata": {},
   "outputs": [
    {
     "data": {
      "application/vnd.jupyter.widget-view+json": {
       "model_id": "4a78b5ada30a4ef19072cb2d3b9c563a",
       "version_major": 2,
       "version_minor": 0
      },
      "text/plain": [
       "interactive(children=(Play(value=0, description='t', max=20), Output()), _dom_classes=('widget-interact',))"
      ]
     },
     "metadata": {},
     "output_type": "display_data"
    }
   ],
   "source": [
    "# Play widget is used to give us animation\n",
    "\n",
    "widgets.interact(sine_wave, t = widgets.Play(min = 0, max = 20))\n",
    "plt.show()"
   ]
  },
  {
   "cell_type": "markdown",
   "id": "7274088b",
   "metadata": {},
   "source": [
    "## Additional Options"
   ]
  },
  {
   "cell_type": "code",
   "execution_count": 33,
   "id": "af830246",
   "metadata": {},
   "outputs": [],
   "source": [
    "def sine_wave(t = 0):\n",
    "    y = np.sin(x+t*0.1)\n",
    "    plt.plot(x,y)\n",
    "    \n",
    "    plt.xlim(0, 2*np.pi)\n",
    "    plt.ylim(-1.5, 1.5)\n"
   ]
  },
  {
   "cell_type": "code",
   "execution_count": 34,
   "id": "c7d3de59",
   "metadata": {},
   "outputs": [
    {
     "data": {
      "application/vnd.jupyter.widget-view+json": {
       "model_id": "8c55b37aec1648fbb40b32564c69b4a1",
       "version_major": 2,
       "version_minor": 0
      },
      "text/plain": [
       "interactive(children=(Play(value=0, description='t', max=20), Output()), _dom_classes=('widget-interact',))"
      ]
     },
     "metadata": {},
     "output_type": "display_data"
    }
   ],
   "source": [
    "# Play widget is used to give us animation\n",
    "\n",
    "widgets.interact(sine_wave, t = widgets.Play(min = 0, max = 20))\n",
    "plt.show()"
   ]
  },
  {
   "cell_type": "code",
   "execution_count": 35,
   "id": "9ba9a346",
   "metadata": {},
   "outputs": [],
   "source": [
    "def sine_wave_with_frequency(t = 0, freq = 1):\n",
    "    y = np.sin(freq*(x+0.1*t))\n",
    "    plt.plot(x,y)\n",
    "    \n",
    "    plt.xlim(0, 2*np.pi)\n",
    "    plt.ylim(-1.5, 1.5)\n"
   ]
  },
  {
   "cell_type": "code",
   "execution_count": 36,
   "id": "de5e1a0f",
   "metadata": {},
   "outputs": [
    {
     "data": {
      "application/vnd.jupyter.widget-view+json": {
       "model_id": "6cb7e47d4f3545bf8e57f616b0967607",
       "version_major": 2,
       "version_minor": 0
      },
      "text/plain": [
       "interactive(children=(Play(value=0, description='t', max=20), FloatSlider(value=1.0, description='freq', max=5…"
      ]
     },
     "metadata": {},
     "output_type": "display_data"
    }
   ],
   "source": [
    "# Play widget is used to give us animation\n",
    "\n",
    "widgets.interact(sine_wave_with_frequency, t = widgets.Play(min = 0, max = 20), freq=(1, 5, 0.5))\n",
    "plt.show()"
   ]
  },
  {
   "cell_type": "code",
   "execution_count": 37,
   "id": "41e213f9",
   "metadata": {},
   "outputs": [],
   "source": [
    "import ipywidgets.widgets as widgets\n",
    "from ipywidgets.widgets import Layout, VBox\n",
    "from IPython.display import display\n",
    "import numpy as np\n",
    "import bqplot as bq\n",
    "import time\n",
    "import threading\n"
   ]
  },
  {
   "cell_type": "code",
   "execution_count": 38,
   "id": "a418bd26",
   "metadata": {},
   "outputs": [],
   "source": [
    "# flag to control loop\n",
    "\n",
    "flag = True\n",
    "\n",
    "# data to plot\n",
    "x = np.linspace(0, 2*np.pi, 500)\n",
    "dx = x[1]-x[0]\n",
    "y = 1 + np.sin(x)"
   ]
  },
  {
   "cell_type": "code",
   "execution_count": 39,
   "id": "90429f56",
   "metadata": {},
   "outputs": [
    {
     "data": {
      "application/vnd.jupyter.widget-view+json": {
       "model_id": "6944f920c9574e68941f6f3ce9673cc0",
       "version_major": 2,
       "version_minor": 0
      },
      "text/plain": [
       "Button(button_style='warning', description='stop', icon='stop', layout=Layout(width='100px'), style=ButtonStyl…"
      ]
     },
     "metadata": {},
     "output_type": "display_data"
    }
   ],
   "source": [
    "# GUI elements\n",
    "\n",
    "# stop button\n",
    "\n",
    "b_stop = widgets.Button(\n",
    "    description = \"stop\",\n",
    "    icon = \"stop\",\n",
    "    button_style = \"warning\",\n",
    "    layout = Layout(width = '100px')\n",
    ")\n",
    "\n",
    "b_stop"
   ]
  },
  {
   "cell_type": "code",
   "execution_count": 40,
   "id": "79847606",
   "metadata": {},
   "outputs": [],
   "source": [
    "def stop_click(b):\n",
    "    global flag\n",
    "    flag = False\n",
    "    \n",
    "b_stop.on_click(stop_click)\n",
    "\n",
    "# progressbar and label\n",
    "\n",
    "w1 = widgets.FloatProgress(\n",
    "    value = y[-1],\n",
    "    min = 0,\n",
    "    max = 2,\n",
    "    description = 'PV:',\n",
    "    style = {'description_width': 'initial'},\n",
    "    layout = Layout(width = '365px')\n",
    ")\n",
    "\n",
    "w2 = widgets.Label(\n",
    "    value = str(np.round([y[-1], 2])),\n",
    "    layout = Layout(margin = '0 10px 0 31px')\n",
    ")\n",
    "\n",
    "w12 = widgets.HBox(\n",
    "    children = (w1, w2),\n",
    "    layout = Layout(margin= '0 0 0 43px')\n",
    "\n",
    ")\n",
    "\n",
    "# slider\n",
    "\n",
    "wA = widgets.FloatLogSlider(\n",
    "    value = 0,\n",
    "    min = 0,\n",
    "    max = 0.5,\n",
    "    step = 0.01,\n",
    "    description = 'Noise:',\n",
    "    layout = Layout(width = '490px', margin = '0 0 5px 0')\n",
    "\n",
    ")"
   ]
  },
  {
   "cell_type": "code",
   "execution_count": 41,
   "id": "6004ddfa",
   "metadata": {},
   "outputs": [
    {
     "data": {
      "application/vnd.jupyter.widget-view+json": {
       "model_id": "889d3f035e654aaa8882eca25260a916",
       "version_major": 2,
       "version_minor": 0
      },
      "text/plain": [
       "FloatProgress(value=0.9999999999999998, description='PV:', layout=Layout(width='365px'), max=2.0, style=Progre…"
      ]
     },
     "metadata": {},
     "output_type": "display_data"
    }
   ],
   "source": [
    "w1"
   ]
  },
  {
   "cell_type": "code",
   "execution_count": 42,
   "id": "4421e432",
   "metadata": {},
   "outputs": [
    {
     "data": {
      "application/vnd.jupyter.widget-view+json": {
       "model_id": "4b1303a282e945e79a91c5ec91baea41",
       "version_major": 2,
       "version_minor": 0
      },
      "text/plain": [
       "Label(value='[1. 2.]', layout=Layout(margin='0 10px 0 31px'))"
      ]
     },
     "metadata": {},
     "output_type": "display_data"
    }
   ],
   "source": [
    "w2"
   ]
  },
  {
   "cell_type": "code",
   "execution_count": 43,
   "id": "3dae96dd",
   "metadata": {},
   "outputs": [
    {
     "data": {
      "application/vnd.jupyter.widget-view+json": {
       "model_id": "b67448b924a64cf4a5165e67dadced7a",
       "version_major": 2,
       "version_minor": 0
      },
      "text/plain": [
       "HBox(children=(FloatProgress(value=0.9999999999999998, description='PV:', layout=Layout(width='365px'), max=2.…"
      ]
     },
     "metadata": {},
     "output_type": "display_data"
    }
   ],
   "source": [
    "w12"
   ]
  },
  {
   "cell_type": "code",
   "execution_count": 44,
   "id": "4181a68f",
   "metadata": {},
   "outputs": [
    {
     "data": {
      "application/vnd.jupyter.widget-view+json": {
       "model_id": "50d5a55708894c46b4128162b5278f05",
       "version_major": 2,
       "version_minor": 0
      },
      "text/plain": [
       "FloatLogSlider(value=1.0, description='Noise:', layout=Layout(margin='0 0 5px 0', width='490px'), max=0.5, ste…"
      ]
     },
     "metadata": {},
     "output_type": "display_data"
    }
   ],
   "source": [
    "wA"
   ]
  },
  {
   "cell_type": "code",
   "execution_count": 45,
   "id": "f3f2cd92",
   "metadata": {},
   "outputs": [],
   "source": [
    "# Plot elements\n",
    "\n",
    "# scales\n",
    "\n",
    "x_sc = bq.LinearScale()\n",
    "y_sc = bq.LinearScale()\n",
    "\n",
    "# axis\n",
    "x_ax = bq.Axis(lable = 'x(t)', scale = x_sc,)\n",
    "\n",
    "y_ax = bq.Axis(lable = 'y(t)', scale = y_sc,\n",
    "              orientation = 'vertical')\n",
    "\n",
    "# lines\n",
    "Line = bq.Lines(x = x, y = y, scales = {'x': x_sc, 'y': y_sc})\n",
    "\n",
    "# Figure\n",
    "fig = bq.Figure(layout = Layout(width = '500px', height = '100px'),\n",
    "                axes = [x_ax, y_ax],\n",
    "                marks = [Line],\n",
    "                fig_margin = dict(top = 10, bottom = 40, left = 50, right = 10)\n",
    "               )\n"
   ]
  }
 ],
 "metadata": {
  "kernelspec": {
   "display_name": "Python 3",
   "language": "python",
   "name": "python3"
  },
  "language_info": {
   "codemirror_mode": {
    "name": "ipython",
    "version": 3
   },
   "file_extension": ".py",
   "mimetype": "text/x-python",
   "name": "python",
   "nbconvert_exporter": "python",
   "pygments_lexer": "ipython3",
   "version": "3.8.8"
  }
 },
 "nbformat": 4,
 "nbformat_minor": 5
}
